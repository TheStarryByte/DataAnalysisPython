{
 "cells": [
  {
   "cell_type": "code",
   "execution_count": 14,
   "id": "445630d2-3cc1-4e8a-a56d-46d279419ed4",
   "metadata": {},
   "outputs": [],
   "source": [
    "def AddMyArg(*args):\n",
    "    \"\"\" \n",
    "    This Funaction can any number of arguments and return the sum\n",
    "    It works like sum() function.\n",
    "    \"\"\"\n",
    "    \n",
    "    S = 0 \n",
    "    for i in range (len(args)):\n",
    "        S += args[i] # this add each argument to S , S = S+args[i]\n",
    "    return S"
   ]
  },
  {
   "cell_type": "code",
   "execution_count": 15,
   "id": "9a13f038-029c-466d-998a-83366756be2c",
   "metadata": {},
   "outputs": [
    {
     "name": "stdout",
     "output_type": "stream",
     "text": [
      "106\n"
     ]
    }
   ],
   "source": [
    "print(AddMyArg(23,23,5,55))"
   ]
  }
 ],
 "metadata": {
  "kernelspec": {
   "display_name": "Python [conda env:base] *",
   "language": "python",
   "name": "conda-base-py"
  },
  "language_info": {
   "codemirror_mode": {
    "name": "ipython",
    "version": 3
   },
   "file_extension": ".py",
   "mimetype": "text/x-python",
   "name": "python",
   "nbconvert_exporter": "python",
   "pygments_lexer": "ipython3",
   "version": "3.13.5"
  }
 },
 "nbformat": 4,
 "nbformat_minor": 5
}
