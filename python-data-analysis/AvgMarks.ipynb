{
 "cells": [
  {
   "cell_type": "code",
   "execution_count": 37,
   "id": "c4222fc4-eefa-4c39-96e9-2d8e222959e5",
   "metadata": {},
   "outputs": [],
   "source": [
    "\"\"\" This program should take all Students Data ( Student ID and Student Marks ) from\n",
    "user input and compute avarage marks for each student \"\"\"\n",
    "\n",
    "def GetDataFromUser():\n",
    "    D = {}\n",
    "    while True:\n",
    "        studentID = input(\"Enter student ID : \")\n",
    "        markList = input(\"Enter the marks by comma spreated values: \")\n",
    "        MoreStudents = input('Enter \"yes\" to quit insertion')\n",
    "        if studentID in D :\n",
    "            print(studentID, \"has already been insterted\")\n",
    "        else:\n",
    "            D[studentID]= markList.split(\",\")\n",
    "        if MoreStudents.lower() == \"yes\":\n",
    "            return D"
   ]
  },
  {
   "cell_type": "code",
   "execution_count": 38,
   "id": "e2fbd27d-67ab-479f-9156-389f7d716337",
   "metadata": {},
   "outputs": [
    {
     "name": "stdin",
     "output_type": "stream",
     "text": [
      "Enter student ID :  1\n",
      "Enter the marks by comma spreated values:  100,90,88,78\n",
      "Enter \"yes\" to quit insertion yes\n"
     ]
    }
   ],
   "source": [
    "studentgrades = GetDataFromUser()"
   ]
  },
  {
   "cell_type": "code",
   "execution_count": 39,
   "id": "a788cb9f-0b08-47a4-a2b2-ba67d63cb61a",
   "metadata": {},
   "outputs": [],
   "source": [
    "def GetAvgMark(D):\n",
    "    avgmark = {}\n",
    "    for x in D:\n",
    "        L = D[x]\n",
    "        s = 0\n",
    "        for marks in L:\n",
    "            s += int(marks)\n",
    "            avgmark[x] = s/len(L)\n",
    "        return avgmark"
   ]
  },
  {
   "cell_type": "code",
   "execution_count": 42,
   "id": "9fe6d147-5a43-424c-9cbe-0969f62c0b2c",
   "metadata": {},
   "outputs": [],
   "source": [
    "AverageM = GetAvgMark(studentgrades)"
   ]
  },
  {
   "cell_type": "code",
   "execution_count": 43,
   "id": "b42c66ad-ee1b-41af-9ffc-e16f6cf6160a",
   "metadata": {},
   "outputs": [
    {
     "data": {
      "text/plain": [
       "{'1': 89.0}"
      ]
     },
     "execution_count": 43,
     "metadata": {},
     "output_type": "execute_result"
    }
   ],
   "source": [
    "AverageM"
   ]
  }
 ],
 "metadata": {
  "kernelspec": {
   "display_name": "Python [conda env:base] *",
   "language": "python",
   "name": "conda-base-py"
  },
  "language_info": {
   "codemirror_mode": {
    "name": "ipython",
    "version": 3
   },
   "file_extension": ".py",
   "mimetype": "text/x-python",
   "name": "python",
   "nbconvert_exporter": "python",
   "pygments_lexer": "ipython3",
   "version": "3.13.5"
  }
 },
 "nbformat": 4,
 "nbformat_minor": 5
}
