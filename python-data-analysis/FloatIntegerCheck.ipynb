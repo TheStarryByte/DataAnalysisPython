{
 "cells": [
  {
   "cell_type": "code",
   "execution_count": null,
   "id": "c335ff19-fb3b-4a4d-b896-f9c31bf58aec",
   "metadata": {},
   "outputs": [],
   "source": [
    "\"\"\"\n",
    "float integer check \n",
    "-------------------\n",
    "The user will enter a floating point number for example, 523.235 . The task here is to find the integer portion before the point\n",
    "which is 523 in this case and check if it is an even or odd number\n",
    "\"\"\"\n",
    "#Get the user input\n",
    "x = float(input(\"Enter a real number : \"))\n",
    "\n",
    "# First thing it will round the number\n",
    "y = round(x)\n",
    "\n",
    "# Check if the number is bigger than zero\n",
    "if x > 0 :\n",
    "    # subtract one if its rounded to a bigger number\n",
    "    if y > x :\n",
    "        intPortion = y - 1\n",
    "    else :\n",
    "        intPortion = y\n",
    "#If the number is less tan zero for example -23\n",
    "else :\n",
    "    if y < x:\n",
    "        intPortion = y + 1\n",
    "    else :\n",
    "        intPortion = y\n",
    "\n",
    "#Check if its odd or even number\n",
    "if intPortion%2 == 0:\n",
    "    print(\"Even Number\")\n",
    "else:\n",
    "    print(\"Odd Number\")\n",
    "        "
   ]
  }
 ],
 "metadata": {
  "kernelspec": {
   "display_name": "Python [conda env:base] *",
   "language": "python",
   "name": "conda-base-py"
  },
  "language_info": {
   "codemirror_mode": {
    "name": "ipython",
    "version": 3
   },
   "file_extension": ".py",
   "mimetype": "text/x-python",
   "name": "python",
   "nbconvert_exporter": "python",
   "pygments_lexer": "ipython3",
   "version": "3.13.5"
  }
 },
 "nbformat": 4,
 "nbformat_minor": 5
}
