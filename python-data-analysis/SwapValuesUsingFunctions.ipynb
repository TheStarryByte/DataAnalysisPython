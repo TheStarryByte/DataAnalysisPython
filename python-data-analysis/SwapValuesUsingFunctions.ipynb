{
 "cells": [
  {
   "cell_type": "code",
   "execution_count": 3,
   "id": "c4fb129d-a4f7-4efd-b267-08b71a408ffe",
   "metadata": {},
   "outputs": [],
   "source": [
    "def SwapValues(L,idx1,idx2):\n",
    "    tmp = L[idx1]\n",
    "    L[idx1] = L[idx2]\n",
    "    L[idx2] = tmp\n",
    "    return L"
   ]
  },
  {
   "cell_type": "code",
   "execution_count": 5,
   "id": "581986cd-372a-4498-a1fa-2bfa66d4c8d4",
   "metadata": {},
   "outputs": [
    {
     "name": "stdout",
     "output_type": "stream",
     "text": [
      "[0, 5, 55, 235, 23, 555]\n"
     ]
    }
   ],
   "source": [
    "L = [23, 5, 55, 235, 0, 555]\n",
    "L2 = SwapValues(L,0,4)\n",
    "print(L2)"
   ]
  }
 ],
 "metadata": {
  "kernelspec": {
   "display_name": "Python [conda env:base] *",
   "language": "python",
   "name": "conda-base-py"
  },
  "language_info": {
   "codemirror_mode": {
    "name": "ipython",
    "version": 3
   },
   "file_extension": ".py",
   "mimetype": "text/x-python",
   "name": "python",
   "nbconvert_exporter": "python",
   "pygments_lexer": "ipython3",
   "version": "3.13.5"
  }
 },
 "nbformat": 4,
 "nbformat_minor": 5
}
