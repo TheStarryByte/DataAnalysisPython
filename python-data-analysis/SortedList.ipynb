{
 "cells": [
  {
   "cell_type": "code",
   "execution_count": 2,
   "id": "324db2a3-30ff-451c-94db-dd6f371ee5a6",
   "metadata": {},
   "outputs": [
    {
     "name": "stdout",
     "output_type": "stream",
     "text": [
      "[-23, 2, 3, 5, 55, 235]\n"
     ]
    }
   ],
   "source": [
    "\"\"\"\n",
    "This program should sort a list of numbers from min to max \n",
    "by finding the minimum number and sawpping it \n",
    "\"\"\"\n",
    "\n",
    "L = [2, 3, 5, 235, 55, -23] # my current list\n",
    "\n",
    "for j in range (len(L)): # we assume the current value is the smallest\n",
    "    m = L[j]\n",
    "    idx = j\n",
    "    c = j\n",
    "    for i in range (j,len(L)): \n",
    "        if L[i]<m: # find smaller values and swap\n",
    "            m = L[i]\n",
    "            idx = c\n",
    "        c += 1\n",
    "    tmp = L[j]\n",
    "    L[j] = m\n",
    "    L[idx] = tmp\n",
    "print(L) # final sorted list"
   ]
  }
 ],
 "metadata": {
  "kernelspec": {
   "display_name": "Python [conda env:base] *",
   "language": "python",
   "name": "conda-base-py"
  },
  "language_info": {
   "codemirror_mode": {
    "name": "ipython",
    "version": 3
   },
   "file_extension": ".py",
   "mimetype": "text/x-python",
   "name": "python",
   "nbconvert_exporter": "python",
   "pygments_lexer": "ipython3",
   "version": "3.13.5"
  }
 },
 "nbformat": 4,
 "nbformat_minor": 5
}
