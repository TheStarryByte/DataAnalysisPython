{
 "cells": [
  {
   "cell_type": "code",
   "execution_count": 36,
   "id": "95f4ef90-5a03-4dd2-89e4-c90c8473047f",
   "metadata": {},
   "outputs": [],
   "source": [
    "def FindMin(L,startIndx):\n",
    "    m = L[startIndx]\n",
    "    idx = startIndx\n",
    "    for i in range(startIndx,len(L)):\n",
    "        x = L[i]\n",
    "        if x<m:\n",
    "            m = x\n",
    "            idx = i\n",
    "        else:\n",
    "            pass\n",
    "    return m,idx"
   ]
  },
  {
   "cell_type": "code",
   "execution_count": 37,
   "id": "5bd1546a-c8cb-4e15-98bf-09313849ca32",
   "metadata": {
    "jupyter": {
     "source_hidden": true
    }
   },
   "outputs": [],
   "source": [
    "def SwapValues(L,idx1,idx2):\n",
    "    tmp = L[idx1]\n",
    "    L[idx1] = L[idx2]\n",
    "    L[idx2] = tmp\n",
    "    return L"
   ]
  },
  {
   "cell_type": "code",
   "execution_count": 38,
   "id": "569f521d-698a-4436-adb6-9b6f277df6c9",
   "metadata": {},
   "outputs": [],
   "source": [
    "def CheckIfNum(L):\n",
    "    for x in L:\n",
    "        if not(isinstance(x,(int,float))):\n",
    "            return False\n",
    "    return True"
   ]
  },
  {
   "cell_type": "code",
   "execution_count": 41,
   "id": "2da2d356-60f7-4365-9c87-2c32cf3d72a8",
   "metadata": {},
   "outputs": [],
   "source": [
    "def SortList(L):\n",
    "    if not(CheckIfNum(L)):\n",
    "        print(\"Error The List Does Not Contain Numeric Values\")\n",
    "        return\n",
    "    else:\n",
    "        c = 0\n",
    "        for x in L :\n",
    "            m,idx = FindMin(L,c)\n",
    "            L = SwapValues(L,c,idx)\n",
    "            c += 1\n",
    "    return L"
   ]
  },
  {
   "cell_type": "code",
   "execution_count": 42,
   "id": "921518cd-dedb-4ea3-b4c3-f1e60794b2f4",
   "metadata": {},
   "outputs": [
    {
     "name": "stdout",
     "output_type": "stream",
     "text": [
      "[0, 5, 23, 55, 276, 523]\n"
     ]
    }
   ],
   "source": [
    "L2 = SortList([23,5,55,523,276,0])\n",
    "print (L2)"
   ]
  },
  {
   "cell_type": "code",
   "execution_count": null,
   "id": "424035f6-a8f9-4370-b279-5c9b49655299",
   "metadata": {},
   "outputs": [],
   "source": []
  }
 ],
 "metadata": {
  "kernelspec": {
   "display_name": "Python [conda env:base] *",
   "language": "python",
   "name": "conda-base-py"
  },
  "language_info": {
   "codemirror_mode": {
    "name": "ipython",
    "version": 3
   },
   "file_extension": ".py",
   "mimetype": "text/x-python",
   "name": "python",
   "nbconvert_exporter": "python",
   "pygments_lexer": "ipython3",
   "version": "3.13.5"
  }
 },
 "nbformat": 4,
 "nbformat_minor": 5
}
