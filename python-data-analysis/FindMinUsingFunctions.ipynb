{
 "cells": [
  {
   "cell_type": "code",
   "execution_count": 1,
   "id": "4aa05a44-8275-45c8-ad1c-4aa7f68e1a55",
   "metadata": {},
   "outputs": [],
   "source": [
    "def FindMin(L):\n",
    "    m = L[0]\n",
    "    idx = 0\n",
    "    i = 0\n",
    "    for x in L:\n",
    "        if x<m:\n",
    "            m = x\n",
    "            idx = i\n",
    "        else:\n",
    "            pass\n",
    "        i+=1\n",
    "    return m,idx"
   ]
  },
  {
   "cell_type": "code",
   "execution_count": 2,
   "id": "f569ff7f-90ea-45a6-93f6-f18519f8e7d9",
   "metadata": {},
   "outputs": [],
   "source": [
    "A,B = FindMin([2,55,23,5,0])"
   ]
  },
  {
   "cell_type": "code",
   "execution_count": 5,
   "id": "ab0c93e6-8010-4058-9072-1c7a6144d7cd",
   "metadata": {},
   "outputs": [
    {
     "name": "stdout",
     "output_type": "stream",
     "text": [
      "0 4\n"
     ]
    }
   ],
   "source": [
    "print (A,B)"
   ]
  }
 ],
 "metadata": {
  "kernelspec": {
   "display_name": "Python [conda env:base] *",
   "language": "python",
   "name": "conda-base-py"
  },
  "language_info": {
   "codemirror_mode": {
    "name": "ipython",
    "version": 3
   },
   "file_extension": ".py",
   "mimetype": "text/x-python",
   "name": "python",
   "nbconvert_exporter": "python",
   "pygments_lexer": "ipython3",
   "version": "3.13.5"
  }
 },
 "nbformat": 4,
 "nbformat_minor": 5
}
