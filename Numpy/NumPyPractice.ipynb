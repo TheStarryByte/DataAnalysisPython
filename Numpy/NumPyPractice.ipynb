{
 "cells": [
  {
   "cell_type": "code",
   "execution_count": 54,
   "id": "7ff72168-2bf5-4825-962a-3854370a137e",
   "metadata": {},
   "outputs": [],
   "source": [
    "import numpy as np"
   ]
  },
  {
   "cell_type": "code",
   "execution_count": 55,
   "id": "ff4b449a-e5fe-44c5-8cfa-42a807eed59d",
   "metadata": {},
   "outputs": [
    {
     "data": {
      "text/plain": [
       "2"
      ]
     },
     "execution_count": 55,
     "metadata": {},
     "output_type": "execute_result"
    }
   ],
   "source": [
    "#Numpy Dimensions\n",
    "\n",
    "X = np.array([[1,2,3],[4,5,6]])\n",
    "X.ndim"
   ]
  },
  {
   "cell_type": "code",
   "execution_count": 56,
   "id": "b5988add-8005-4384-8593-afde6d4899b4",
   "metadata": {},
   "outputs": [
    {
     "name": "stdout",
     "output_type": "stream",
     "text": [
      "[ 10  20  30  40  50  60  70  80  90 100]\n"
     ]
    }
   ],
   "source": [
    "#Numpy arange\n",
    "\n",
    "S = np.arange(10,110,10)   #for i in range(10,110,10)\n",
    "print(S)"
   ]
  },
  {
   "cell_type": "code",
   "execution_count": 57,
   "id": "f77ebd4d-73e1-4ea2-a993-46b13ea74229",
   "metadata": {},
   "outputs": [
    {
     "name": "stdout",
     "output_type": "stream",
     "text": [
      "[ 9  6  1  4  0 10  8  7  3  5  2]\n",
      "82\n"
     ]
    }
   ],
   "source": [
    "#Numpy random\n",
    "\n",
    "A = np.random.permutation(np.arange(11))\n",
    "print(A)\n",
    "B = np.random.randint(10,100)\n",
    "print(B)"
   ]
  },
  {
   "cell_type": "code",
   "execution_count": 58,
   "id": "4a44c97e-2f82-4d4c-b03e-47d316413f6d",
   "metadata": {},
   "outputs": [
    {
     "name": "stdout",
     "output_type": "stream",
     "text": [
      "[20 21 22 23 24 25 26 27 28 29 30 31 32 33 34 35 36 37 38 39 40 41 42 43\n",
      " 44 45 46 47 48 49]\n"
     ]
    }
   ],
   "source": [
    "#Numpy Slicing     A[Start:End:Step]\n",
    "\n",
    "C = np.arange(50)\n",
    "D = C[20:50]\n",
    "print(D)"
   ]
  },
  {
   "cell_type": "code",
   "execution_count": 59,
   "id": "cce48dba-e8f3-4044-b5d7-0ce8800c9175",
   "metadata": {},
   "outputs": [
    {
     "name": "stdout",
     "output_type": "stream",
     "text": [
      "[100   1   2   3   4   5   6   7   8   9  10  11  12  13  14  15  16  17\n",
      "  18  19  20  21  22  23  24  25  26  27  28  29  30  31  32  33  34  35\n",
      "  36  37  38  39  40  41  42  43  44  45  46  47  48  49]\n",
      "[20 21 22 23 24 25 26 27 28 29 30 31 32 33 34 35 36 37 38 39 40 41 42 43\n",
      " 44 45 46 47 48 49]\n"
     ]
    }
   ],
   "source": [
    "C[0] = 100\n",
    "print(C)\n",
    "print(D)"
   ]
  },
  {
   "cell_type": "code",
   "execution_count": 60,
   "id": "ecaa1624-0f75-4325-97be-9c5b10c8163d",
   "metadata": {},
   "outputs": [
    {
     "name": "stdout",
     "output_type": "stream",
     "text": [
      "[100   2   4   6   8  10  12  14  16  18  20  22  24  26  28  30  32  34\n",
      "  36  38  40  42  44  46  48]\n",
      "[49 47 45 43 41 39 37 35 33 31 29 27 25 23 21 19 17 15 13 11  9  7  5  3\n",
      "  1]\n"
     ]
    }
   ],
   "source": [
    "print(C[::2])\n",
    "print(C[::-2])"
   ]
  },
  {
   "cell_type": "code",
   "execution_count": 61,
   "id": "5427a806-1b00-4b2b-8c5e-71fd6ee0450e",
   "metadata": {},
   "outputs": [
    {
     "name": "stdout",
     "output_type": "stream",
     "text": [
      "0\n"
     ]
    }
   ],
   "source": [
    "idx = np.argwhere(C==100)[0][0]\n",
    "print(idx)"
   ]
  },
  {
   "cell_type": "code",
   "execution_count": 62,
   "id": "5b0b00fd-4c28-47ac-a78f-b2c8c7fdc153",
   "metadata": {},
   "outputs": [
    {
     "name": "stdout",
     "output_type": "stream",
     "text": [
      "[[9. 2. 9.]\n",
      " [4. 0. 8.]\n",
      " [6. 3. 5.]]\n"
     ]
    }
   ],
   "source": [
    "Y = np.round(10*np.random.rand(3,3))\n",
    "print(Y)"
   ]
  },
  {
   "cell_type": "code",
   "execution_count": 63,
   "id": "28c68a21-9bbb-47ea-9568-1b9abed614ff",
   "metadata": {},
   "outputs": [
    {
     "name": "stdout",
     "output_type": "stream",
     "text": [
      "2.0\n",
      "[4. 0. 8.]\n",
      "[2. 0. 3.]\n"
     ]
    }
   ],
   "source": [
    "print(Y[0,1]) \n",
    "print(Y[1,:]) # access second row\n",
    "print(Y[:,1]) # access second column"
   ]
  },
  {
   "cell_type": "code",
   "execution_count": 64,
   "id": "0f480d8b-0833-42a8-abb2-fc5940f7d9ef",
   "metadata": {},
   "outputs": [
    {
     "data": {
      "text/plain": [
       "array([[4., 0., 5.],\n",
       "       [6., 2., 8.],\n",
       "       [9., 3., 9.]])"
      ]
     },
     "execution_count": 64,
     "metadata": {},
     "output_type": "execute_result"
    }
   ],
   "source": [
    "Y.sort(axis=0) #sort all column\n",
    "Y"
   ]
  },
  {
   "cell_type": "code",
   "execution_count": 65,
   "id": "b50daa59-b350-498d-8c91-0d9418be18b9",
   "metadata": {},
   "outputs": [
    {
     "data": {
      "text/plain": [
       "array([[0., 4., 5.],\n",
       "       [2., 6., 8.],\n",
       "       [3., 9., 9.]])"
      ]
     },
     "execution_count": 65,
     "metadata": {},
     "output_type": "execute_result"
    }
   ],
   "source": [
    "Y.sort(axis=1) #sort all row\n",
    "Y"
   ]
  }
 ],
 "metadata": {
  "kernelspec": {
   "display_name": "Python [conda env:base] *",
   "language": "python",
   "name": "conda-base-py"
  },
  "language_info": {
   "codemirror_mode": {
    "name": "ipython",
    "version": 3
   },
   "file_extension": ".py",
   "mimetype": "text/x-python",
   "name": "python",
   "nbconvert_exporter": "python",
   "pygments_lexer": "ipython3",
   "version": "3.13.5"
  }
 },
 "nbformat": 4,
 "nbformat_minor": 5
}
