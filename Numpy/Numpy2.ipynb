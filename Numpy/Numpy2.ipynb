{
 "cells": [
  {
   "cell_type": "code",
   "execution_count": 1,
   "id": "602a5c6e-7d3d-4161-8e35-e5be52003eff",
   "metadata": {},
   "outputs": [],
   "source": [
    "import numpy as np"
   ]
  },
  {
   "cell_type": "code",
   "execution_count": 2,
   "id": "7290ad45-dc35-4c9e-af5a-03ec3d86bf20",
   "metadata": {},
   "outputs": [],
   "source": [
    "S = np.arange(101)"
   ]
  },
  {
   "cell_type": "code",
   "execution_count": 5,
   "id": "926ea370-8e89-426a-ab85-a37e2a5cb278",
   "metadata": {},
   "outputs": [
    {
     "data": {
      "text/plain": [
       "array([  0,   1, 100])"
      ]
     },
     "execution_count": 5,
     "metadata": {},
     "output_type": "execute_result"
    }
   ],
   "source": [
    "A = S[[0,1,100]]\n",
    "A"
   ]
  },
  {
   "cell_type": "code",
   "execution_count": 8,
   "id": "9dd622d0-1407-47b1-95a9-2c532afcb284",
   "metadata": {},
   "outputs": [
    {
     "name": "stdout",
     "output_type": "stream",
     "text": [
      "[111   1 100]\n",
      "[  0   1   2   3   4   5   6   7   8   9  10  11  12  13  14  15  16  17\n",
      "  18  19  20  21  22  23  24  25  26  27  28  29  30  31  32  33  34  35\n",
      "  36  37  38  39  40  41  42  43  44  45  46  47  48  49  50  51  52  53\n",
      "  54  55  56  57  58  59  60  61  62  63  64  65  66  67  68  69  70  71\n",
      "  72  73  74  75  76  77  78  79  80  81  82  83  84  85  86  87  88  89\n",
      "  90  91  92  93  94  95  96  97  98  99 100]\n"
     ]
    }
   ],
   "source": [
    "A[0]= 111\n",
    "print(A)\n",
    "print(S) # does not change"
   ]
  },
  {
   "cell_type": "code",
   "execution_count": 11,
   "id": "d6d54f6c-3434-474c-b78e-f0c9efd39336",
   "metadata": {},
   "outputs": [
    {
     "data": {
      "text/plain": [
       "array([11, 12, 13, 14, 15, 16, 17, 18, 19, 20, 21, 22, 23, 24, 25, 26, 27,\n",
       "       28, 29, 30, 31, 32, 33, 34, 35, 36, 37, 38, 39, 40, 41, 42, 43, 44,\n",
       "       45, 46, 47, 48, 49, 50, 51, 52, 53, 54, 55, 56, 57, 58, 59, 60, 61,\n",
       "       62, 63, 64, 65, 66, 67, 68, 69, 70, 71, 72, 73, 74, 75, 76, 77, 78,\n",
       "       79])"
      ]
     },
     "execution_count": 11,
     "metadata": {},
     "output_type": "execute_result"
    }
   ],
   "source": [
    "# & , and   the left side are used for arrays and the right one for single objects\n",
    "# | , or\n",
    "# ~ , not\n",
    "A = S[(S>10) & (S<80)]\n",
    "A"
   ]
  },
  {
   "cell_type": "code",
   "execution_count": 15,
   "id": "0ead2eac-549d-4a1a-9680-c46e5e5824ab",
   "metadata": {},
   "outputs": [
    {
     "data": {
      "text/plain": [
       "array([[7., 2., 5.],\n",
       "       [9., 1., 3.]])"
      ]
     },
     "execution_count": 15,
     "metadata": {},
     "output_type": "execute_result"
    }
   ],
   "source": [
    "# numpy broadcasting\n",
    "# numpy hstack , vstack and sort axis = 0\n",
    "\n",
    "F = np.round(10*np.random.rand(2,3))\n",
    "F"
   ]
  },
  {
   "cell_type": "code",
   "execution_count": 18,
   "id": "efa4a45f-5a7c-44f2-b07a-c08d2e763ae3",
   "metadata": {},
   "outputs": [
    {
     "data": {
      "text/plain": [
       "array([[12.,  7., 10.],\n",
       "       [14.,  6.,  8.]])"
      ]
     },
     "execution_count": 18,
     "metadata": {},
     "output_type": "execute_result"
    }
   ],
   "source": [
    "F+5 #broadcasting"
   ]
  },
  {
   "cell_type": "code",
   "execution_count": 20,
   "id": "036ce7de-3462-49e8-ae21-f54a8a7fd9d0",
   "metadata": {},
   "outputs": [
    {
     "name": "stdout",
     "output_type": "stream",
     "text": [
      "[[7. 2. 5.]\n",
      " [9. 1. 3.]]\n",
      "[[ 6. 10.]\n",
      " [ 9.  3.]]\n"
     ]
    }
   ],
   "source": [
    "X = np.round(10*np.random.rand(2,2))\n",
    "print(F)\n",
    "print(X)"
   ]
  },
  {
   "cell_type": "code",
   "execution_count": 21,
   "id": "93bf1e38-7601-487e-8941-7b6da0a97827",
   "metadata": {},
   "outputs": [
    {
     "data": {
      "text/plain": [
       "array([[ 7.,  2.,  5.,  6., 10.],\n",
       "       [ 9.,  1.,  3.,  9.,  3.]])"
      ]
     },
     "execution_count": 21,
     "metadata": {},
     "output_type": "execute_result"
    }
   ],
   "source": [
    "Y = np.hstack((F,X)) # concatenate horizontal stack\n",
    "Y"
   ]
  },
  {
   "cell_type": "code",
   "execution_count": 22,
   "id": "b072c0ee-f06d-4cbd-99d8-73c465c8fa0d",
   "metadata": {},
   "outputs": [
    {
     "data": {
      "text/plain": [
       "array([2, 7, 6, 4, 3, 5, 9, 8, 0, 1])"
      ]
     },
     "execution_count": 22,
     "metadata": {},
     "output_type": "execute_result"
    }
   ],
   "source": [
    "Z = np.random.permutation(np.arange(10))\n",
    "Z"
   ]
  },
  {
   "cell_type": "code",
   "execution_count": 26,
   "id": "4e9e0a15-2c47-4f7c-b1a5-e13078b1f2ee",
   "metadata": {},
   "outputs": [
    {
     "data": {
      "text/plain": [
       "array([0, 1, 2, 3, 4, 5, 6, 7, 8, 9])"
      ]
     },
     "execution_count": 26,
     "metadata": {},
     "output_type": "execute_result"
    }
   ],
   "source": [
    "ZZ = np.sort(Z) \n",
    "ZZ"
   ]
  },
  {
   "cell_type": "code",
   "execution_count": 29,
   "id": "38159e87-6fb0-4eb7-bf81-0d20895fe73e",
   "metadata": {},
   "outputs": [
    {
     "name": "stdout",
     "output_type": "stream",
     "text": [
      "2.92 ms ± 56.2 μs per loop (mean ± std. dev. of 7 runs, 100 loops each)\n",
      "12.5 μs ± 65.6 ns per loop (mean ± std. dev. of 7 runs, 100,000 loops each)\n"
     ]
    }
   ],
   "source": [
    "# numpy is really fast , ufuncs\n",
    "\n",
    "C = np.random.rand(100000)\n",
    "%timeit sum(C)\n",
    "%timeit np.sum(C)  # same as C.sum()"
   ]
  }
 ],
 "metadata": {
  "kernelspec": {
   "display_name": "Python [conda env:base] *",
   "language": "python",
   "name": "conda-base-py"
  },
  "language_info": {
   "codemirror_mode": {
    "name": "ipython",
    "version": 3
   },
   "file_extension": ".py",
   "mimetype": "text/x-python",
   "name": "python",
   "nbconvert_exporter": "python",
   "pygments_lexer": "ipython3",
   "version": "3.13.5"
  }
 },
 "nbformat": 4,
 "nbformat_minor": 5
}
